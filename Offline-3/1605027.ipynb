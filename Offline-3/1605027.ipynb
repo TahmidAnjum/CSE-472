{
 "cells": [
  {
   "cell_type": "code",
   "execution_count": 24,
   "metadata": {},
   "outputs": [],
   "source": [
    "import numpy as np\n",
    "import os"
   ]
  },
  {
   "cell_type": "code",
   "execution_count": 25,
   "metadata": {},
   "outputs": [],
   "source": [
    "def extract_from_file(option):\n",
    "    dir = os.getcwd()\n",
    "    if option == \"Train\":\n",
    "        file = dir+\"/Toy Dataset/trainNN.txt\"\n",
    "    else:\n",
    "        file = dir+\"/Toy Dataset/testNN.txt\"\n",
    "    f = open(file,'r')\n",
    "    num_array = np.array([[float(num) for num in line.split()] for line in f])\n",
    "    return num_array"
   ]
  },
  {
   "cell_type": "code",
   "execution_count": 26,
   "metadata": {},
   "outputs": [],
   "source": [
    "def get_feat_no_and_class_no(num_arr):\n",
    "    feat_no = num_arr.shape[1] - 1  \n",
    "    class_no = (int)(np.max(num_arr[:,-1]))\n",
    "    \n",
    "    return feat_no, class_no"
   ]
  },
  {
   "cell_type": "code",
   "execution_count": 27,
   "metadata": {},
   "outputs": [],
   "source": [
    "def get_feat_no_and_classes(num_arr):\n",
    "    feat_no = num_arr.shape[1] - 1  \n",
    "    class_no = (int)(np.max(num_arr[:,-1]))\n",
    "    \n",
    "    return feat_no, class_no"
   ]
  },
  {
   "cell_type": "code",
   "execution_count": 28,
   "metadata": {},
   "outputs": [],
   "source": [
    "def encode_class_values(Y):\n",
    "    tmp = Y-1\n",
    "    n_values = np.max(tmp.astype(int))+1\n",
    "    encoded_class_values = np.eye(n_values)[tmp.astype(int)]\n",
    "    return encoded_class_values"
   ]
  },
  {
   "cell_type": "code",
   "execution_count": 29,
   "metadata": {},
   "outputs": [],
   "source": [
    "def activation_output(V):\n",
    "        return 1.0 / (1.0 + np.exp(-V))"
   ]
  },
  {
   "cell_type": "code",
   "execution_count": 30,
   "metadata": {},
   "outputs": [],
   "source": [
    "def activation_derivate(V):\n",
    "    ac_output = activation_output(V)\n",
    "    return ac_output * (1 - ac_output)"
   ]
  },
  {
   "cell_type": "code",
   "execution_count": 31,
   "metadata": {},
   "outputs": [],
   "source": [
    "def get_X_and_Y(option):\n",
    "    num_arr = extract_from_file(option)\n",
    "    X, Y = num_arr[:,:-1],num_arr[:,-1]\n",
    "    X_mod = (X - X.mean(axis = 0)) / X.std(axis = 0)\n",
    "\n",
    "    if option == \"Train\":\n",
    "        feat_no, class_no = get_feat_no_and_classes(num_arr)\n",
    "        encoded_class_values = encode_class_values(Y) \n",
    "        return feat_no, class_no, X_mod, encoded_class_values\n",
    "\n",
    "    return X_mod, Y"
   ]
  },
  {
   "cell_type": "code",
   "execution_count": 32,
   "metadata": {},
   "outputs": [],
   "source": [
    "class Layer:\n",
    "    def __init__(self, node_no, feat_no):\n",
    "        \n",
    "        np.random.seed(0)\n",
    "        self.biases = np.random.randn(node_no, 1)\n",
    "        self.pre_activation_output = None\n",
    "        self.activation_output = None\n",
    "        self.input = None\n",
    "        np.random.seed(99)\n",
    "        self.weights = np.random.randn(node_no, feat_no)"
   ]
  },
  {
   "cell_type": "code",
   "execution_count": 33,
   "metadata": {},
   "outputs": [],
   "source": [
    "class NeuralNetwork:\n",
    "    def __init__(self, feat_no, class_no, hidden_layer_sizes):\n",
    "        self.feat_no = feat_no\n",
    "        self.class_no = class_no\n",
    "        self.hidden_layer_sizes = hidden_layer_sizes  \n",
    "        self.layers = []  \n",
    "        self.number_of_layers = None\n",
    "        self.deltas = []  \n",
    "        \n",
    "    \n",
    "    def add_layers(self):\n",
    "        layer_sizes = [self.feat_no] + self.hidden_layer_sizes + [self.class_no]\n",
    "        self.number_of_layers = len(layer_sizes) - 1;  \n",
    "        for i in range(1, self.number_of_layers + 1):\n",
    "            self.layers.append(Layer(layer_sizes[i], layer_sizes[i - 1]))\n",
    "\n",
    "\n",
    "    def feedforward(self, X):\n",
    "        prev_layer_output = X.T\n",
    "        \n",
    "        for layer in self.layers:\n",
    "            layer.input = prev_layer_output\n",
    "            layer.pre_activation_output = (layer.weights@ layer.input) + layer.biases\n",
    "            layer.activation_output = activation_output(layer.pre_activation_output)\n",
    "            prev_layer_output = layer.activation_output\n",
    "        \n",
    "        return prev_layer_output\n",
    "\n",
    "\n",
    "    def compute_cost(self, train_Y):\n",
    "        cost = np.sum((self.layers[-1].activation_output - train_Y.T) ** 2)\n",
    "        return cost / 2.0\n",
    "\n",
    "\n",
    "    def backward_propagation(self, train_Y):\n",
    "        self.deltas = [0] * self.number_of_layers\n",
    "        self.deltas[-1] = (self.layers[-1].activation_output - train_Y.T) * activation_derivate(self.layers[-1].pre_activation_output)\n",
    "    \n",
    "\n",
    "        for i in reversed(range(self.number_of_layers - 1)):\n",
    "            self.deltas[i] = (self.layers[i + 1].weights.T@self.deltas[i + 1]) * activation_derivate(self.layers[i].pre_activation_output)\n",
    "        #print(self.deltas)\n",
    "    def update_weights(self, train_X, learning_rate):\n",
    "        for i in range(self.number_of_layers):\n",
    "            if i == 0:\n",
    "                prev_layer_output = train_X.T\n",
    "            else:\n",
    "                prev_layer_output = self.layers[i - 1].activation_output\n",
    "    \n",
    "            delta_w = -learning_rate * (self.deltas[i]@ (prev_layer_output.T))\n",
    "            self.layers[i].weights += delta_w\n",
    "            \n",
    "            delta_b = -learning_rate * np.sum(self.deltas[i], axis=1, keepdims=True)\n",
    "            self.layers[i].biases += delta_b\n",
    "\n",
    "    def train_neural_network(self, train_X, train_Y, learning_rate = 0.001, max_iterations = 10000):\n",
    "        self.add_layers()\n",
    "        previous_cost = -1\n",
    "        for i in range(max_iterations):\n",
    "            self.feedforward(train_X)\n",
    "            current_cost = self.compute_cost(train_Y)\n",
    "            \n",
    "            if i == 0 or (current_cost < previous_cost and previous_cost - current_cost > 1e-20):\n",
    "                # print(current_cost)\n",
    "                previous_cost = current_cost\n",
    "            else:\n",
    "                print('iteration :' ,i+1)\n",
    "                break\n",
    "            \n",
    "            self.backward_propagation(train_Y)\n",
    "            self.update_weights(train_X, learning_rate)\n",
    "\n",
    "            \n",
    "    def predict_class(self, test_X):\n",
    "        last_layer_output = self.feedforward(test_X)\n",
    "        print(last_layer_output.shape)\n",
    "        prediced_classes = []\n",
    "        for row in last_layer_output.T:\n",
    "            prediced_classes.append(np.argmax(row) + 1)\n",
    "\n",
    "        return np.array(prediced_classes)\n",
    "\n",
    "    def test_neural_network(self, test_X, test_Y):\n",
    "        predicted_classes = self.predict_class(test_X)\n",
    "        # matches = np.count_nonzero(predicted_classes == test_Y)\n",
    "        # accuracy = matches / len(test_Y) * 100\n",
    "        match_count = 0\n",
    "        for i in range(len(test_Y)):\n",
    "            if predicted_classes[i] == test_Y[i]:\n",
    "                #print(test_X[i],test_Y[i],predicted_classes[i])\n",
    "                match_count += 1\n",
    "            else:\n",
    "                print(i+1,test_X[i],test_Y[i],predicted_classes[i])\n",
    "        \n",
    "        accuracy = match_count / len(test_Y) * 100\n",
    "        return accuracy\n"
   ]
  },
  {
   "cell_type": "code",
   "execution_count": 34,
   "metadata": {},
   "outputs": [
    {
     "name": "stdout",
     "output_type": "stream",
     "text": [
      "(4, 500)\n",
      "100.0\n"
     ]
    }
   ],
   "source": [
    "feat_no, class_no, train_X, train_Y = get_X_and_Y(\"Train\")\n",
    "test_X, test_Y = get_X_and_Y(\"Test\")\n",
    "\n",
    "nn = NeuralNetwork(feat_no, class_no, [3,3,3])\n",
    "nn.train_neural_network(train_X, train_Y)\n",
    "accuracy = nn.test_neural_network(test_X, test_Y)\n",
    "print(accuracy)"
   ]
  },
  {
   "cell_type": "code",
   "execution_count": 35,
   "metadata": {},
   "outputs": [
    {
     "data": {
      "text/plain": [
       "(4, 4)"
      ]
     },
     "execution_count": 35,
     "metadata": {},
     "output_type": "execute_result"
    }
   ],
   "source": [
    "get_feat_no_and_class_no(extract_from_file(\"Train\"))"
   ]
  }
 ],
 "metadata": {
  "interpreter": {
   "hash": "916dbcbb3f70747c44a77c7bcd40155683ae19c65e1c03b4aa3499c5328201f1"
  },
  "kernelspec": {
   "display_name": "Python 3.8.10 64-bit",
   "language": "python",
   "name": "python3"
  },
  "language_info": {
   "codemirror_mode": {
    "name": "ipython",
    "version": 3
   },
   "file_extension": ".py",
   "mimetype": "text/x-python",
   "name": "python",
   "nbconvert_exporter": "python",
   "pygments_lexer": "ipython3",
   "version": "3.8.10"
  },
  "orig_nbformat": 4
 },
 "nbformat": 4,
 "nbformat_minor": 2
}
